{
  "nbformat": 4,
  "nbformat_minor": 0,
  "metadata": {
    "colab": {
      "provenance": []
    },
    "kernelspec": {
      "name": "python3",
      "display_name": "Python 3"
    },
    "language_info": {
      "name": "python"
    }
  },
  "cells": [
    {
      "cell_type": "code",
      "execution_count": 80,
      "metadata": {
        "id": "8-e8ZU0bE-II"
      },
      "outputs": [],
      "source": [
        "import numpy as np\n",
        "import matplotlib.pyplot as plt"
      ]
    },
    {
      "cell_type": "code",
      "source": [
        "encoded = np.load(\"/content/encoded_array (1).npy\")"
      ],
      "metadata": {
        "id": "S1Y7_ac5FFow"
      },
      "execution_count": 81,
      "outputs": []
    },
    {
      "cell_type": "code",
      "source": [
        "print(\"Shape of encoded array:\", encoded.shape)"
      ],
      "metadata": {
        "colab": {
          "base_uri": "https://localhost:8080/"
        },
        "id": "DhdjeKlTFvjC",
        "outputId": "3f5b876a-25ce-4c77-e5a4-34808216fbdb"
      },
      "execution_count": 82,
      "outputs": [
        {
          "output_type": "stream",
          "name": "stdout",
          "text": [
            "Shape of encoded array: (200, 50)\n"
          ]
        }
      ]
    },
    {
      "cell_type": "code",
      "source": [
        "decoded = encoded.reshape(100,100)"
      ],
      "metadata": {
        "id": "CxgcQK63H6e3"
      },
      "execution_count": 83,
      "outputs": []
    },
    {
      "cell_type": "code",
      "source": [
        "\n",
        "img_90ccw = np.rot90(decoded, k=3)\n",
        "plt.imshow(img_90ccw, cmap='gray')\n",
        "plt.axis('off')\n",
        "plt.show()\n"
      ],
      "metadata": {
        "colab": {
          "base_uri": "https://localhost:8080/",
          "height": 406
        },
        "id": "-I3z2tcSIucu",
        "outputId": "8008f6eb-d3a9-4ed9-d527-26c21730619b"
      },
      "execution_count": 87,
      "outputs": [
        {
          "output_type": "display_data",
          "data": {
            "text/plain": [
              "<Figure size 640x480 with 1 Axes>"
            ],
            "image/png": "[encoded data removed]"
          },
          "metadata": {}
        }
      ]
    },
    {
      "cell_type": "code",
      "source": [],
      "metadata": {
        "id": "d-29QnsvGhV-"
      },
      "execution_count": 85,
      "outputs": []
    }
  ]
}